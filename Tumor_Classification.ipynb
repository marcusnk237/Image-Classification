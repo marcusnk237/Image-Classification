{
  "nbformat": 4,
  "nbformat_minor": 0,
  "metadata": {
    "kernelspec": {
      "language": "python",
      "display_name": "Python 3",
      "name": "python3"
    },
    "language_info": {
      "name": "python",
      "version": "3.7.6",
      "mimetype": "text/x-python",
      "codemirror_mode": {
        "name": "ipython",
        "version": 3
      },
      "pygments_lexer": "ipython3",
      "nbconvert_exporter": "python",
      "file_extension": ".py"
    },
    "colab": {
      "name": "Tumor Classification.ipynb",
      "provenance": [],
      "include_colab_link": true
    }
  },
  "cells": [
    {
      "cell_type": "markdown",
      "metadata": {
        "id": "view-in-github",
        "colab_type": "text"
      },
      "source": [
        "<a href=\"https://colab.research.google.com/github/marcusnk237/Image-Classification/blob/main/Tumor_Classification.ipynb\" target=\"_parent\"><img src=\"https://colab.research.google.com/assets/colab-badge.svg\" alt=\"Open In Colab\"/></a>"
      ]
    },
    {
      "cell_type": "code",
      "metadata": {
        "_uuid": "8f2839f25d086af736a60e9eeb907d3b93b6e0e5",
        "_cell_guid": "b1076dfc-b9ad-4769-8c92-a6c4dae69d19",
        "trusted": true,
        "id": "4HQc8g6B3s3a"
      },
      "source": [
        "#Chargement des bibliothèques et Framework\n",
        "import keras\n",
        "from keras.models import Sequential\n",
        "from keras.layers import Dense, Dropout, Flatten,Conv2D, MaxPooling2D, Conv3D, BatchNormalization, Activation\n",
        "from keras import backend as K\n",
        "import os\n",
        "from PIL import Image\n",
        "import numpy as np\n",
        "from sklearn.model_selection import train_test_split\n",
        "from sklearn.preprocessing import OneHotEncoder\n",
        "import matplotlib.pyplot as plt\n",
        "from matplotlib.pyplot import imshow\n",
        "import pandas as pd"
      ],
      "execution_count": 1,
      "outputs": []
    },
    {
      "cell_type": "code",
      "metadata": {
        "id": "4ByYh4N4M-yU"
      },
      "source": [
        "#Decompression du Dataset\n",
        "!unzip Dataset.zip"
      ],
      "execution_count": null,
      "outputs": []
    },
    {
      "cell_type": "code",
      "metadata": {
        "trusted": true,
        "id": "5IBI8mnd3s3c"
      },
      "source": [
        "#Extraction des classes de tumeur\n",
        "\n",
        "classes = os.listdir('../input/tumor-classes/Dataset/Test')\n",
        "enc = OneHotEncoder()\n",
        "enc.fit([[0], [1], [2], [3]]) \n",
        "def names(number):\n",
        "    if(number == 0):\n",
        "        return classes[0]\n",
        "    elif(number == 1):\n",
        "        return classes[1]\n",
        "    elif(number == 2):\n",
        "        return classes[2]\n",
        "    elif(number == 3):\n",
        "        return classes[3]\n"
      ],
      "execution_count": null,
      "outputs": []
    },
    {
      "cell_type": "code",
      "metadata": {
        "trusted": true,
        "id": "KR2ByreM3s3c",
        "outputId": "8603c43c-caf7-4d65-a628-c4143f1b1c55"
      },
      "source": [
        "#Classement des données (d'entrainement) suivant leur catégories\n",
        "trainData = []\n",
        "trainLabel = []\n",
        "dim = (150, 150)\n",
        "trainPath = \"../input/tumor-classes/Dataset/Train\"\n",
        "index = 0\n",
        "for dir in os.listdir(trainPath):\n",
        "    filePaths = []\n",
        "    subDir = os.path.join(trainPath, dir)\n",
        "    for file in os.listdir(subDir):\n",
        "        imgFullPath = os.path.join(subDir, file)\n",
        "        filePaths.append(imgFullPath)\n",
        "        img = Image.open(imgFullPath)\n",
        "        x = img.resize(dim)\n",
        "        x = np.array(x)\n",
        "        trainData.append(np.array(x))\n",
        "        trainLabel.append(enc.transform([[index]]).toarray())\n",
        "    print(names(index))\n",
        "    print(str(dir))\n",
        "    index += 1\n",
        "    \n",
        "trainData = np.array(trainData)\n",
        "trainLabel = np.array(trainLabel).reshape(2870, 4)\n",
        "print(trainData.shape)\n",
        "print(trainLabel.shape)"
      ],
      "execution_count": null,
      "outputs": [
        {
          "output_type": "stream",
          "text": [
            "tumeur_hypophysaire\n",
            "tumeur_hypophysaire\n",
            "meningiome\n",
            "meningiome\n",
            "pas_de_tumeur\n",
            "pas_de_tumeur\n",
            "gliome\n",
            "gliome\n",
            "(2870, 150, 150, 3)\n",
            "(2870, 4)\n"
          ],
          "name": "stdout"
        }
      ]
    },
    {
      "cell_type": "code",
      "metadata": {
        "trusted": true,
        "id": "EqkxGBKF3s3c",
        "outputId": "5c2b14e1-5771-489c-96a3-4bc47c13e198"
      },
      "source": [
        "#Classement des données (de test) suivant leur catégories\n",
        "testData = []\n",
        "testLabel = []\n",
        "dim = (150, 150)\n",
        "testPath = \"../input/tumor-classes/Dataset/Test\"\n",
        "index = 0\n",
        "for dir in os.listdir(testPath):\n",
        "    filePaths = []\n",
        "    subDir = os.path.join(testPath, dir)\n",
        "    for file in os.listdir(subDir):\n",
        "        imgFullPath = os.path.join(subDir, file)\n",
        "        filePaths.append(imgFullPath)\n",
        "        img = Image.open(imgFullPath)\n",
        "        x = img.resize(dim)\n",
        "        x = np.array(x)\n",
        "        testData.append(np.array(x))\n",
        "        testLabel.append(enc.transform([[index]]).toarray())\n",
        "    print(names(index))\n",
        "    print(str(dir))\n",
        "    index += 1\n",
        "testData = np.array(testData)\n",
        "testLabel = np.array(testLabel).reshape(394, 4)\n",
        "print(testData.shape)\n",
        "print(testLabel.shape)"
      ],
      "execution_count": null,
      "outputs": [
        {
          "output_type": "stream",
          "text": [
            "tumeur_hypophysaire\n",
            "tumeur_hypophysaire\n",
            "meningiome\n",
            "meningiome\n",
            "pas_de_tumeur\n",
            "pas_de_tumeur\n",
            "gliome\n",
            "gliome\n",
            "(394, 150, 150, 3)\n",
            "(394, 4)\n"
          ],
          "name": "stdout"
        }
      ]
    },
    {
      "cell_type": "code",
      "metadata": {
        "trusted": true,
        "id": "hwqdw5g03s3c",
        "outputId": "e53bea1b-6bb0-455c-c357-4ba06c4a55ea"
      },
      "source": [
        "#Création de notre réseau de neurones\n",
        "\n",
        "model = Sequential()\n",
        "\n",
        "model.add(Conv2D(32, (3, 3), input_shape=(150,150,3)))\n",
        "model.add(Activation('relu'))\n",
        "model.add(MaxPooling2D(pool_size=(2, 2)))\n",
        "model.add(Conv2D(32, (3, 3))) \n",
        "model.add(Activation('relu'))           \n",
        "model.add(MaxPooling2D(pool_size=(2, 2)))  \n",
        "model.add(Flatten())\n",
        "model.add(Dense(32))\n",
        "model.add(Activation('relu'))\n",
        "model.add(Dropout(0.25))\n",
        "model.add(Dense(4))\n",
        "model.add(Activation('softmax'))\n",
        "\n",
        "model.compile(loss = \"categorical_crossentropy\", optimizer='adam')\n",
        "print(model.summary())"
      ],
      "execution_count": null,
      "outputs": [
        {
          "output_type": "stream",
          "text": [
            "Model: \"sequential\"\n",
            "_________________________________________________________________\n",
            "Layer (type)                 Output Shape              Param #   \n",
            "=================================================================\n",
            "conv2d (Conv2D)              (None, 148, 148, 32)      896       \n",
            "_________________________________________________________________\n",
            "activation (Activation)      (None, 148, 148, 32)      0         \n",
            "_________________________________________________________________\n",
            "max_pooling2d (MaxPooling2D) (None, 74, 74, 32)        0         \n",
            "_________________________________________________________________\n",
            "conv2d_1 (Conv2D)            (None, 72, 72, 32)        9248      \n",
            "_________________________________________________________________\n",
            "activation_1 (Activation)    (None, 72, 72, 32)        0         \n",
            "_________________________________________________________________\n",
            "max_pooling2d_1 (MaxPooling2 (None, 36, 36, 32)        0         \n",
            "_________________________________________________________________\n",
            "flatten (Flatten)            (None, 41472)             0         \n",
            "_________________________________________________________________\n",
            "dense (Dense)                (None, 32)                1327136   \n",
            "_________________________________________________________________\n",
            "activation_2 (Activation)    (None, 32)                0         \n",
            "_________________________________________________________________\n",
            "dropout (Dropout)            (None, 32)                0         \n",
            "_________________________________________________________________\n",
            "dense_1 (Dense)              (None, 4)                 132       \n",
            "_________________________________________________________________\n",
            "activation_3 (Activation)    (None, 4)                 0         \n",
            "=================================================================\n",
            "Total params: 1,337,412\n",
            "Trainable params: 1,337,412\n",
            "Non-trainable params: 0\n",
            "_________________________________________________________________\n",
            "None\n"
          ],
          "name": "stdout"
        }
      ]
    },
    {
      "cell_type": "code",
      "metadata": {
        "trusted": true,
        "id": "prrGFuj73s3c",
        "outputId": "3621b3a1-ae09-41d9-c5b0-f77f9bc32fea"
      },
      "source": [
        "#Entrainement de notre réseau de neurones\n",
        "history = model.fit(trainData, trainLabel,batch_size = 100, epochs = 32, verbose=1,validation_data=(testData, testLabel))"
      ],
      "execution_count": null,
      "outputs": [
        {
          "output_type": "stream",
          "text": [
            "Epoch 1/32\n",
            "29/29 [==============================] - 1s 30ms/step - loss: 0.3525 - val_loss: 2.9559\n",
            "Epoch 2/32\n",
            "29/29 [==============================] - 1s 24ms/step - loss: 0.3519 - val_loss: 2.7145\n",
            "Epoch 3/32\n",
            "29/29 [==============================] - 1s 23ms/step - loss: 0.3239 - val_loss: 2.8419\n",
            "Epoch 4/32\n",
            "29/29 [==============================] - 1s 23ms/step - loss: 0.3152 - val_loss: 3.6308\n",
            "Epoch 5/32\n",
            "29/29 [==============================] - 1s 23ms/step - loss: 0.3041 - val_loss: 3.1866\n",
            "Epoch 6/32\n",
            "29/29 [==============================] - 1s 25ms/step - loss: 0.3044 - val_loss: 3.7520\n",
            "Epoch 7/32\n",
            "29/29 [==============================] - 1s 25ms/step - loss: 0.3082 - val_loss: 2.4858\n",
            "Epoch 8/32\n",
            "29/29 [==============================] - 1s 23ms/step - loss: 0.3012 - val_loss: 3.3635\n",
            "Epoch 9/32\n",
            "29/29 [==============================] - 1s 23ms/step - loss: 0.3031 - val_loss: 3.4298\n",
            "Epoch 10/32\n",
            "29/29 [==============================] - 1s 23ms/step - loss: 0.3072 - val_loss: 3.5037\n",
            "Epoch 11/32\n",
            "29/29 [==============================] - 1s 23ms/step - loss: 0.3077 - val_loss: 3.7895\n",
            "Epoch 12/32\n",
            "29/29 [==============================] - 1s 23ms/step - loss: 0.3166 - val_loss: 3.1072\n",
            "Epoch 13/32\n",
            "29/29 [==============================] - 1s 23ms/step - loss: 0.2984 - val_loss: 3.4266\n",
            "Epoch 14/32\n",
            "29/29 [==============================] - 1s 23ms/step - loss: 0.2862 - val_loss: 3.2373\n",
            "Epoch 15/32\n",
            "29/29 [==============================] - 1s 22ms/step - loss: 0.2794 - val_loss: 4.1589\n",
            "Epoch 16/32\n",
            "29/29 [==============================] - 1s 23ms/step - loss: 0.2866 - val_loss: 3.1146\n",
            "Epoch 17/32\n",
            "29/29 [==============================] - 1s 22ms/step - loss: 0.2985 - val_loss: 3.6643\n",
            "Epoch 18/32\n",
            "29/29 [==============================] - 1s 23ms/step - loss: 0.2865 - val_loss: 3.5927\n",
            "Epoch 19/32\n",
            "29/29 [==============================] - 1s 23ms/step - loss: 0.2915 - val_loss: 4.5669\n",
            "Epoch 20/32\n",
            "29/29 [==============================] - 1s 22ms/step - loss: 0.2785 - val_loss: 3.4640\n",
            "Epoch 21/32\n",
            "29/29 [==============================] - 1s 25ms/step - loss: 0.2925 - val_loss: 4.0473\n",
            "Epoch 22/32\n",
            "29/29 [==============================] - 1s 24ms/step - loss: 0.2827 - val_loss: 3.2696\n",
            "Epoch 23/32\n",
            "29/29 [==============================] - 1s 22ms/step - loss: 0.2870 - val_loss: 3.5210\n",
            "Epoch 24/32\n",
            "29/29 [==============================] - 1s 23ms/step - loss: 0.2843 - val_loss: 3.7464\n",
            "Epoch 25/32\n",
            "29/29 [==============================] - 1s 22ms/step - loss: 0.2751 - val_loss: 3.9737\n",
            "Epoch 26/32\n",
            "29/29 [==============================] - 1s 26ms/step - loss: 0.2716 - val_loss: 3.7070\n",
            "Epoch 27/32\n",
            "29/29 [==============================] - 1s 25ms/step - loss: 0.2577 - val_loss: 3.0524\n",
            "Epoch 28/32\n",
            "29/29 [==============================] - 1s 24ms/step - loss: 0.2701 - val_loss: 4.1489\n",
            "Epoch 29/32\n",
            "29/29 [==============================] - 1s 23ms/step - loss: 0.2602 - val_loss: 4.4333\n",
            "Epoch 30/32\n",
            "29/29 [==============================] - 1s 23ms/step - loss: 0.2555 - val_loss: 3.4771\n",
            "Epoch 31/32\n",
            "29/29 [==============================] - 1s 23ms/step - loss: 0.2531 - val_loss: 4.5896\n",
            "Epoch 32/32\n",
            "29/29 [==============================] - 1s 22ms/step - loss: 0.2780 - val_loss: 5.0349\n"
          ],
          "name": "stdout"
        }
      ]
    },
    {
      "cell_type": "code",
      "metadata": {
        "trusted": true,
        "id": "fcGAzHUK3s3c"
      },
      "source": [
        "#Sauvegarde du modèle\n",
        "model.save(\"model.h5\")"
      ],
      "execution_count": null,
      "outputs": []
    },
    {
      "cell_type": "code",
      "metadata": {
        "trusted": true,
        "id": "ph9OKPJN3s3c",
        "outputId": "8276d171-3fff-4baa-967e-69443a5cfa68"
      },
      "source": [
        "#Représentation des métriques\n",
        "plt.plot(history.history['loss'])\n",
        "plt.plot(history.history['val_loss'])\n",
        "plt.title('Model Loss')\n",
        "plt.ylabel('Loss')\n",
        "plt.xlabel('Epoch')\n",
        "plt.legend(['Test', 'Validation'], loc='upper right')\n",
        "plt.show()"
      ],
      "execution_count": null,
      "outputs": [
        {
          "output_type": "display_data",
          "data": {
            "text/plain": [
              "<Figure size 432x288 with 1 Axes>"
            ],
            "image/png": "[encoded data removed]"
          },
          "metadata": {
            "tags": [],
            "needs_background": "light"
          }
        }
      ]
    },
    {
      "cell_type": "code",
      "metadata": {
        "trusted": true,
        "id": "nKDXBzUX3s3d",
        "outputId": "336004f7-7718-4a1a-e450-df1d7216cc02"
      },
      "source": [
        "#Exemple de classificaion\n",
        "img = Image.open('../input/tumor-classes/Dataset/Test/pas_de_tumeur/image(1).jpg')\n",
        "x = np.array(img.resize(dim))\n",
        "x = x.reshape(1,150,150,3)\n",
        "answ = model.predict_on_batch(x)\n",
        "classification = np.where(answ == np.amax(answ))[1][0]\n",
        "imshow(img)\n",
        "print('Classe de la tumeur : ' + names(classification))\n",
        "print('Certitude : '+str(answ[0][classification]*100)+ '%')"
      ],
      "execution_count": null,
      "outputs": [
        {
          "output_type": "stream",
          "text": [
            "Classe de la tumeur : meningiome\n",
            "Certitude : 99.9980092048645%\n"
          ],
          "name": "stdout"
        },
        {
          "output_type": "display_data",
          "data": {
            "text/plain": [
              "<Figure size 432x288 with 1 Axes>"
            ],
            "image/png": "[encoded data removed]"
          },
          "metadata": {
            "tags": [],
            "needs_background": "light"
          }
        }
      ]
    }
  ]
}